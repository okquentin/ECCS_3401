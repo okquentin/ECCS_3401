{
 "cells": [
  {
   "cell_type": "markdown",
   "metadata": {},
   "source": [
    "# Importing Database and Libraries"
   ]
  },
  {
   "cell_type": "code",
   "execution_count": 1,
   "metadata": {},
   "outputs": [],
   "source": [
    "import pandas as pd\n",
    "import seaborn as sns\n",
    "import matplotlib.pyplot as plt\n",
    "import numpy as np\n",
    "data_url =  \"https://raw.githubusercontent.com/mcnakhaee/palmerpenguins/refs/heads/master/palmerpenguins/data/penguins.csv\"\n",
    "penguins = pd.read_csv(data_url)\n",
    "penguins = penguins.dropna()"
   ]
  },
  {
   "cell_type": "markdown",
   "metadata": {},
   "source": [
    "# Part 1\n",
    "\n",
    "You're working with a researcher at the McMurdo research statement. They're sending researchers out to the field who are not experts in penguins. They want to make an AR app to help these non-penguin experts determine the species of a given penguin based on a handful of biomarkers. Answer the following questions:\n",
    "\n",
    "1. Is it feasible to determine species of the penguin based on one remote measurement of its bill length, bill height, or flipper length? Back your claim up with scatter plots. If it is not feasible, explain what would be the minimum number of metrics needed to determine penguin species. Assume all penguins are gentoo, adelie, or chin strap.\n",
    "\n",
    "2. The researchers are also interested in training a model to be used as an educational tool. The idea is that the model would be trained on the penguin data, and the researchers could then use the resulting model to explain what the key features of given penguin species are. Would you recommend SVM or decision trees for such a model?\n",
    "\n",
    "2. A researcher asked you a question: when training a model, why not use all metrics at our disposal, not just the minimum number of metrics. Isn't bigger always better? Why do we typically want to minimize the number of metrics trained on a model?"
   ]
  },
  {
   "cell_type": "markdown",
   "metadata": {},
   "source": [
    "## 1.1 \n",
    "Based on Figure 1, there are no feasable single attributes that could be used to determine a Penguin's species from the dataset, as the range of possible values for the attributes overlap between species.\n",
    "\n",
    "Based on Figure 2, there are a few pairs of attributes that could potentially be used to determine species; flipper length and bill length, bill depth and bill length, and body mass and bill length. Bill length and bill depth create relatively clear separations, but crucially, most of the overlap is between gentoo and the other two species, and body mass combined with bill_depth creates a very clear distinction between gentoo and the other two species. Thus, using these three metrics, the model should be able to classify relatively well."
   ]
  },
  {
   "cell_type": "markdown",
   "metadata": {},
   "source": [
    "### Code for Figure 1"
   ]
  },
  {
   "cell_type": "code",
   "execution_count": null,
   "metadata": {},
   "outputs": [],
   "source": [
    "import matplotlib.pyplot as plt\n",
    "\n",
    "# Generates scatter plots for the given attributes\n",
    "def examine_penguins(penguins, attributes):\n",
    "    num_attributes = len(attributes)\n",
    "    cols = 2  # Number of columns in the grid\n",
    "    rows = (num_attributes + cols - 1) // cols  # Calculate required rows\n",
    "\n",
    "    fig, axes = plt.subplots(rows, cols, figsize=(10, 5 * rows))\n",
    "    axes = axes.flatten()  # Flatten the axes array for easy iteration\n",
    "\n",
    "    for i, attribute in enumerate(attributes):\n",
    "        axes[i].scatter(penguins[attribute], penguins['species'])\n",
    "        axes[i].set_title(attribute)\n",
    "        axes[i].set_xlabel(attribute)\n",
    "        axes[i].set_ylabel('Species')\n",
    "\n",
    "    # Hide any unused subplots\n",
    "    for j in range(i + 1, len(axes)):\n",
    "        axes[j].axis('off')\n",
    "\n",
    "    plt.tight_layout()\n",
    "    plt.show()\n",
    "\n",
    "# Attributes\n",
    "attributes = ['bill_length_mm', 'bill_depth_mm', 'flipper_length_mm', 'body_mass_g']"
   ]
  },
  {
   "cell_type": "markdown",
   "metadata": {},
   "source": [
    "### Figure 1"
   ]
  },
  {
   "cell_type": "code",
   "execution_count": null,
   "metadata": {},
   "outputs": [],
   "source": [
    "examine_penguins(penguins, attributes)"
   ]
  },
  {
   "cell_type": "markdown",
   "metadata": {},
   "source": [
    "### Code for Figure 2"
   ]
  },
  {
   "cell_type": "code",
   "execution_count": null,
   "metadata": {},
   "outputs": [],
   "source": [
    "def examine_penguins(penguins, attribs, target): \n",
    "\n",
    "  # Plot the pair grid\n",
    "  g = sns.PairGrid(penguins[attribs], hue=target)\n",
    "  g.map_diag(sns.histplot)\n",
    "  g.map_offdiag(sns.scatterplot)\n",
    "  g.add_legend()\n",
    "  return g\n",
    "\n",
    "penguins = penguins.dropna()"
   ]
  },
  {
   "cell_type": "markdown",
   "metadata": {},
   "source": [
    "### Figure 2"
   ]
  },
  {
   "cell_type": "code",
   "execution_count": null,
   "metadata": {},
   "outputs": [],
   "source": [
    "attributes = [\"bill_length_mm\", \"bill_depth_mm\", \"flipper_length_mm\", \"body_mass_g\", \"species\"]\n",
    "examine_penguins(penguins, attributes, 'species')"
   ]
  },
  {
   "cell_type": "markdown",
   "metadata": {},
   "source": [
    "## 1.2\n",
    "I would recommend decisions trees for this model, especially if its being used in an educational context. The amount of metrics to process is sufficiently small as to not warrant the complexity of SVMs, and SVMs would make the classification a lot harder to explain. A decision tree will clearly show what attributes are being analyzed and what values for each metric indicate whether a penguin belongs to a particular species."
   ]
  },
  {
   "cell_type": "markdown",
   "metadata": {},
   "source": [
    "## 1.3 \n",
    "Minimizing the metrics used is crucial because it requires less computational power and less complex algorithms for classification. It makes the model easier to understand and less of a \"black box.\" Even with a more complex model, if needless metrics are used it could even still end up being just simply worse at generalizability, depending on the specifics of the data in question and the magnitude of difference between the minimum needed metrics and the total possible metrics."
   ]
  },
  {
   "cell_type": "markdown",
   "metadata": {},
   "source": [
    "# Part Two \n",
    "Using your reflection form part 1, create a model that predicts all three penguin species. You must:\n",
    "\n",
    "1. Choose what metrics to use using the justification from part 1.\n",
    "\n",
    "2. Train a SVM classifier on the chosen metrics. You must use cross validation to tune the C hyper parameter, and then run the model on the testing set using the chosen best value for C.\n",
    "\n",
    "3. Train a decision tree classifier on the chosen metrics. You must use cross validation to tune the max_depth hyper parameter, and then run the model on the testing set using the chosen best value for max_depth\n",
    "After you train your SVM classifier and decision tree classifier, make an argument for what model is best for classifying"
   ]
  },
  {
   "cell_type": "markdown",
   "metadata": {},
   "source": [
    "## 2.1\n",
    "As mentioned in part one, the best combination of metrics for classification seem to be bill length and bill depth, along with body mass."
   ]
  },
  {
   "cell_type": "markdown",
   "metadata": {},
   "source": [
    "## 2.2\n",
    "According to Figure 3, there is no obvious best value for the C hyper parameter. It seems to be pretty consistently achieving a median test score of around .985 with any C value between 1 and 9, thus we will simply choose C=1.\n"
   ]
  },
  {
   "cell_type": "markdown",
   "metadata": {},
   "source": [
    "### Setup Model"
   ]
  },
  {
   "cell_type": "code",
   "execution_count": 2,
   "metadata": {},
   "outputs": [],
   "source": [
    "from sklearn.svm import LinearSVC\n",
    "from sklearn.model_selection import train_test_split, cross_val_score\n",
    "from sklearn.model_selection import cross_validate\n",
    "\n",
    "X = penguins.loc[:,[\"bill_length_mm\", \"body_mass_g\", \"bill_depth_mm\"]]\n",
    "y = penguins.loc[:,\"species\"]\n",
    "\n",
    "X_train, X_test, y_train, y_test = train_test_split(\n",
    "    X, y, test_size=0.2, random_state=0)\n"
   ]
  },
  {
   "cell_type": "markdown",
   "metadata": {},
   "source": [
    "### Hyperparameter Tuning (C)"
   ]
  },
  {
   "cell_type": "code",
   "execution_count": 3,
   "metadata": {},
   "outputs": [
    {
     "name": "stdout",
     "output_type": "stream",
     "text": [
      "Cross validating for 1...\n",
      "Cross validating for 2...\n",
      "Cross validating for 3...\n",
      "Cross validating for 4...\n",
      "Cross validating for 5...\n",
      "Cross validating for 6...\n",
      "Cross validating for 7...\n",
      "Cross validating for 8...\n",
      "Cross validating for 9...\n"
     ]
    },
    {
     "data": {
      "text/plain": [
       "array([[0.98507463, 0.98507463, 0.98507463, 0.96969697, 1.        ],\n",
       "       [0.98507463, 0.98507463, 0.98507463, 0.96969697, 1.        ],\n",
       "       [0.98507463, 0.98507463, 0.98507463, 0.96969697, 1.        ],\n",
       "       [0.98507463, 0.98507463, 0.98507463, 0.96969697, 1.        ],\n",
       "       [0.98507463, 0.98507463, 0.98507463, 0.96969697, 0.98484848],\n",
       "       [0.97014925, 0.98507463, 0.98507463, 0.96969697, 0.98484848],\n",
       "       [0.97014925, 0.98507463, 0.98507463, 0.96969697, 0.98484848],\n",
       "       [0.97014925, 0.98507463, 0.98507463, 0.96969697, 1.        ],\n",
       "       [0.98507463, 0.98507463, 0.98507463, 0.96969697, 1.        ]])"
      ]
     },
     "execution_count": 3,
     "metadata": {},
     "output_type": "execute_result"
    }
   ],
   "source": [
    "c_values = range(1, 10)\n",
    "\n",
    "# Use this to store our results\n",
    "scores = np.ones((len(c_values), 5))\n",
    "\n",
    "for (i,c_candidate) in enumerate(c_values):\n",
    "    print(\"Cross validating for %d...\" % c_candidate)\n",
    "\n",
    "    # Initializing our model with the given C value \n",
    "    model = LinearSVC(C=c_candidate, random_state=42)\n",
    "    current_scores = cross_val_score(model, X, y, cv=5)\n",
    "    scores[i] = current_scores\n",
    "\n",
    "scores"
   ]
  },
  {
   "cell_type": "markdown",
   "metadata": {},
   "source": [
    "### Figure 3"
   ]
  },
  {
   "cell_type": "code",
   "execution_count": 4,
   "metadata": {},
   "outputs": [
    {
     "data": {
      "text/plain": [
       "{'whiskers': [<matplotlib.lines.Line2D at 0x168313890>,\n",
       "  <matplotlib.lines.Line2D at 0x1683139d0>,\n",
       "  <matplotlib.lines.Line2D at 0x16834c190>,\n",
       "  <matplotlib.lines.Line2D at 0x16834c2d0>,\n",
       "  <matplotlib.lines.Line2D at 0x16834ca50>,\n",
       "  <matplotlib.lines.Line2D at 0x16834cb90>,\n",
       "  <matplotlib.lines.Line2D at 0x16834d310>,\n",
       "  <matplotlib.lines.Line2D at 0x16834d450>,\n",
       "  <matplotlib.lines.Line2D at 0x16834dbd0>,\n",
       "  <matplotlib.lines.Line2D at 0x16834dd10>,\n",
       "  <matplotlib.lines.Line2D at 0x16834e5d0>,\n",
       "  <matplotlib.lines.Line2D at 0x16834e710>,\n",
       "  <matplotlib.lines.Line2D at 0x16834ed50>,\n",
       "  <matplotlib.lines.Line2D at 0x16834ee90>,\n",
       "  <matplotlib.lines.Line2D at 0x16834f610>,\n",
       "  <matplotlib.lines.Line2D at 0x16834f750>,\n",
       "  <matplotlib.lines.Line2D at 0x16834fed0>,\n",
       "  <matplotlib.lines.Line2D at 0x1684a8050>],\n",
       " 'caps': [<matplotlib.lines.Line2D at 0x168313b10>,\n",
       "  <matplotlib.lines.Line2D at 0x168313c50>,\n",
       "  <matplotlib.lines.Line2D at 0x16834c410>,\n",
       "  <matplotlib.lines.Line2D at 0x16834c550>,\n",
       "  <matplotlib.lines.Line2D at 0x16834ccd0>,\n",
       "  <matplotlib.lines.Line2D at 0x16834ce10>,\n",
       "  <matplotlib.lines.Line2D at 0x16834d590>,\n",
       "  <matplotlib.lines.Line2D at 0x16834d6d0>,\n",
       "  <matplotlib.lines.Line2D at 0x16834de50>,\n",
       "  <matplotlib.lines.Line2D at 0x16834df90>,\n",
       "  <matplotlib.lines.Line2D at 0x16834e850>,\n",
       "  <matplotlib.lines.Line2D at 0x16834e990>,\n",
       "  <matplotlib.lines.Line2D at 0x16834efd0>,\n",
       "  <matplotlib.lines.Line2D at 0x16834f110>,\n",
       "  <matplotlib.lines.Line2D at 0x16834f890>,\n",
       "  <matplotlib.lines.Line2D at 0x16834f9d0>,\n",
       "  <matplotlib.lines.Line2D at 0x1684a8190>,\n",
       "  <matplotlib.lines.Line2D at 0x1684a82d0>],\n",
       " 'boxes': [<matplotlib.lines.Line2D at 0x168310410>,\n",
       "  <matplotlib.lines.Line2D at 0x16834c050>,\n",
       "  <matplotlib.lines.Line2D at 0x16834c910>,\n",
       "  <matplotlib.lines.Line2D at 0x16834d1d0>,\n",
       "  <matplotlib.lines.Line2D at 0x16834da90>,\n",
       "  <matplotlib.lines.Line2D at 0x16834e490>,\n",
       "  <matplotlib.lines.Line2D at 0x16834ec10>,\n",
       "  <matplotlib.lines.Line2D at 0x16834f4d0>,\n",
       "  <matplotlib.lines.Line2D at 0x16834fd90>],\n",
       " 'medians': [<matplotlib.lines.Line2D at 0x168313d90>,\n",
       "  <matplotlib.lines.Line2D at 0x16834c690>,\n",
       "  <matplotlib.lines.Line2D at 0x16834cf50>,\n",
       "  <matplotlib.lines.Line2D at 0x16834d810>,\n",
       "  <matplotlib.lines.Line2D at 0x16834e210>,\n",
       "  <matplotlib.lines.Line2D at 0x16834ead0>,\n",
       "  <matplotlib.lines.Line2D at 0x16834f250>,\n",
       "  <matplotlib.lines.Line2D at 0x16834fb10>,\n",
       "  <matplotlib.lines.Line2D at 0x1684a8410>],\n",
       " 'fliers': [<matplotlib.lines.Line2D at 0x168313ed0>,\n",
       "  <matplotlib.lines.Line2D at 0x16834c7d0>,\n",
       "  <matplotlib.lines.Line2D at 0x16834d090>,\n",
       "  <matplotlib.lines.Line2D at 0x16834d950>,\n",
       "  <matplotlib.lines.Line2D at 0x16834e350>,\n",
       "  <matplotlib.lines.Line2D at 0x16834e0d0>,\n",
       "  <matplotlib.lines.Line2D at 0x16834f390>,\n",
       "  <matplotlib.lines.Line2D at 0x16834fc50>,\n",
       "  <matplotlib.lines.Line2D at 0x1684a8550>],\n",
       " 'means': []}"
      ]
     },
     "execution_count": 4,
     "metadata": {},
     "output_type": "execute_result"
    },
    {
     "data": {
      "image/png": "[encoded data removed]",
      "text/plain": [
       "<Figure size 640x480 with 1 Axes>"
      ]
     },
     "metadata": {},
     "output_type": "display_data"
    }
   ],
   "source": [
    "plt.boxplot(scores.T)"
   ]
  },
  {
   "cell_type": "markdown",
   "metadata": {},
   "source": [
    "### Testing Model With Optimal C Value"
   ]
  },
  {
   "cell_type": "code",
   "execution_count": 5,
   "metadata": {},
   "outputs": [
    {
     "name": "stdout",
     "output_type": "stream",
     "text": [
      "Train Score (median):  0.9850187265917603\n",
      "Test Score (median):  0.9850746268656716\n"
     ]
    }
   ],
   "source": [
    "# Setting up our model \n",
    "model = LinearSVC(C=1, random_state=42)\n",
    "\n",
    "# Compute both training and test scores\n",
    "cv_results = cross_validate(model, X, y, cv=5, return_train_score=True)\n",
    "\n",
    "# Access training and test scores\n",
    "train_scores = cv_results['train_score']\n",
    "test_scores = cv_results['test_score']\n",
    "np.median(train_scores)\n",
    "np.median(test_scores)\n",
    "\n",
    "# Display scores\n",
    "print(\"Train Score (median): \", np.median(train_scores))\n",
    "print(\"Test Score (median): \", np.median(test_scores))"
   ]
  },
  {
   "cell_type": "markdown",
   "metadata": {},
   "source": [
    "### IGNORE: was looking into PCA, couldn't get it working :("
   ]
  },
  {
   "cell_type": "code",
   "execution_count": null,
   "metadata": {},
   "outputs": [],
   "source": [
    "from sklearn.decomposition import PCA\n",
    "\n",
    "# Step 1: Initialize PCA to reduce to 2 components\n",
    "pca = PCA(n_components=2)\n",
    "\n",
    "# Step 2: Fit PCA on the training data and transform it\n",
    "X_train_pca = pca.fit_transform(X_train)\n",
    "\n",
    "# Step 3: Transform the test data as well (if needed)\n",
    "X_test_pca = pca.transform(X_test)\n",
    "\n",
    "def plotSVMResults(X,y, model):\n",
    "\n",
    "    # Step 1: Create a mesh grid for plotting\n",
    "    x_min, x_max = X[:, 0].min() - 1, X[:, 0].max() + 1\n",
    "    y_min, y_max = X[:, 1].min() - 1, X[:, 1].max() + 1\n",
    "    xx, yy = np.meshgrid(np.arange(x_min, x_max, 0.01),\n",
    "                        np.arange(y_min, y_max, 0.01))\n",
    "\n",
    "    # Step 2: Predict the class labels for the grid points\n",
    "    Z = model.predict(np.c_[xx.ravel(), yy.ravel()])\n",
    "    Z = Z.reshape(xx.shape)\n",
    "\n",
    "    features = set(y)\n",
    "\n",
    "    Z_num = Z.copy()\n",
    "    y_num = y.copy()\n",
    "\n",
    "    ## Change nominal values to 0 or 1\n",
    "    for (i,label) in enumerate(features):\n",
    "        Z_num[Z_num[:,:]==label] = i \n",
    "        y_num[y_num[:]==label] = i \n",
    "\n",
    "    Z_num = Z_num.astype(int)\n",
    "    y_num = y_num.astype(int)\n",
    "\n",
    "    fig, ax = plt.subplots()\n",
    "\n",
    "    #  Plot the decision boundary and the data points\n",
    "    ax.contourf(xx, yy, Z_num, alpha=0.8)\n",
    "    ax.scatter(X[:, 0], X[:, 1], c=y_num, edgecolors='k', marker='o')\n",
    "    ax.set_xlabel('Feature 1')\n",
    "    ax.set_ylabel('Feature 2')\n",
    "    ax.set_title('SVM Decision Boundary with LinearSVC')\n",
    "\n",
    "    return (ax,fig)"
   ]
  },
  {
   "cell_type": "code",
   "execution_count": null,
   "metadata": {},
   "outputs": [],
   "source": [
    "plotSVMResults(X_train_pca, y_train, model)"
   ]
  },
  {
   "cell_type": "markdown",
   "metadata": {},
   "source": [
    "## 2.3\n",
    "Based on Figure 4 value for C>=6 seems to achieve consistent results (median score above 0.95). Thus we will chose C=6. \n",
    "\n",
    "Testing the model with this value gave a median training score of 1, and a median testing score of 0.969. Not only is this testing score lower than the testing score for SVM, but it is also lower than its own training score, indicating overfitting. Thus, SVM appears to be the best choice for classifying with the chosen metrics."
   ]
  },
  {
   "cell_type": "markdown",
   "metadata": {},
   "source": [
    "### Hyperparameter Tuning"
   ]
  },
  {
   "cell_type": "code",
   "execution_count": 6,
   "metadata": {},
   "outputs": [],
   "source": [
    "# Make our X variable, which will include all of the predictor \n",
    "#    attributes (bill_legnth and body_mass)\n",
    "# and y will include the target attributes (species)\n",
    "\n",
    "X = penguins.loc[:, [\"bill_length_mm\", \"bill_depth_mm\", \"body_mass_g\"]]\n",
    "y = penguins.loc[:,\"species\"]"
   ]
  },
  {
   "cell_type": "code",
   "execution_count": 7,
   "metadata": {},
   "outputs": [
    {
     "name": "stdout",
     "output_type": "stream",
     "text": [
      "Cross validating for 1...\n",
      "Cross validating for 2...\n",
      "Cross validating for 3...\n",
      "Cross validating for 4...\n",
      "Cross validating for 5...\n",
      "Cross validating for 6...\n",
      "Cross validating for 7...\n",
      "Cross validating for 8...\n",
      "Cross validating for 9...\n",
      "Cross validating for 10...\n",
      "Cross validating for 11...\n",
      "Cross validating for 12...\n",
      "Cross validating for 13...\n",
      "Cross validating for 14...\n",
      "Cross validating for 15...\n",
      "Cross validating for 16...\n",
      "Cross validating for 17...\n",
      "Cross validating for 18...\n",
      "Cross validating for 19...\n"
     ]
    },
    {
     "data": {
      "text/plain": [
       "array([[0.73134328, 0.71641791, 0.74626866, 0.74242424, 0.75757576],\n",
       "       [0.97014925, 0.94029851, 0.88059701, 0.87878788, 0.93939394],\n",
       "       [0.97014925, 0.95522388, 0.88059701, 0.92424242, 0.96969697],\n",
       "       [0.98507463, 1.        , 0.95522388, 0.95454545, 0.95454545],\n",
       "       [0.98507463, 1.        , 0.95522388, 0.96969697, 0.96969697],\n",
       "       [0.97014925, 1.        , 0.95522388, 0.96969697, 0.96969697],\n",
       "       [0.97014925, 1.        , 0.95522388, 0.96969697, 0.96969697],\n",
       "       [0.97014925, 1.        , 0.95522388, 0.96969697, 0.96969697],\n",
       "       [0.97014925, 1.        , 0.95522388, 0.96969697, 0.96969697],\n",
       "       [0.97014925, 1.        , 0.95522388, 0.96969697, 0.96969697],\n",
       "       [0.97014925, 1.        , 0.95522388, 0.96969697, 0.96969697],\n",
       "       [0.97014925, 1.        , 0.95522388, 0.96969697, 0.96969697],\n",
       "       [0.97014925, 1.        , 0.95522388, 0.96969697, 0.96969697],\n",
       "       [0.97014925, 1.        , 0.95522388, 0.96969697, 0.96969697],\n",
       "       [0.97014925, 1.        , 0.95522388, 0.96969697, 0.96969697],\n",
       "       [0.97014925, 1.        , 0.95522388, 0.96969697, 0.96969697],\n",
       "       [0.97014925, 1.        , 0.95522388, 0.96969697, 0.96969697],\n",
       "       [0.97014925, 1.        , 0.95522388, 0.96969697, 0.96969697],\n",
       "       [0.97014925, 1.        , 0.95522388, 0.96969697, 0.96969697]])"
      ]
     },
     "execution_count": 7,
     "metadata": {},
     "output_type": "execute_result"
    }
   ],
   "source": [
    "from sklearn.tree import DecisionTreeClassifier\n",
    "from sklearn.svm import LinearSVC\n",
    "from sklearn.model_selection import train_test_split, cross_val_score\n",
    "\n",
    "X_train, X_test, y_train, y_test = train_test_split(\n",
    "    X, y, test_size=0.2, random_state=0)\n",
    "\n",
    "max_depth_values = range(1, 20)\n",
    "\n",
    "\n",
    "# Use this to store our results\n",
    "scores = np.ones((len(max_depth_values), 5))\n",
    "\n",
    "for (i,max_depth_candidate) in enumerate(max_depth_values):\n",
    "  print(\"Cross validating for %d...\" % max_depth_candidate)\n",
    "\n",
    "  # Initializing our model with the given C value \n",
    "  model = DecisionTreeClassifier(max_depth=max_depth_candidate, random_state=42)\n",
    "  current_scores = cross_val_score(model, X, y, cv=5)\n",
    "  scores[i] = current_scores\n",
    "\n",
    "scores"
   ]
  },
  {
   "cell_type": "markdown",
   "metadata": {},
   "source": [
    "### Figure 4"
   ]
  },
  {
   "cell_type": "code",
   "execution_count": 8,
   "metadata": {},
   "outputs": [
    {
     "data": {
      "text/plain": [
       "{'whiskers': [<matplotlib.lines.Line2D at 0x1684f7110>,\n",
       "  <matplotlib.lines.Line2D at 0x1684f6fd0>,\n",
       "  <matplotlib.lines.Line2D at 0x1689f0050>,\n",
       "  <matplotlib.lines.Line2D at 0x1689f3ed0>,\n",
       "  <matplotlib.lines.Line2D at 0x168a24690>,\n",
       "  <matplotlib.lines.Line2D at 0x168a247d0>,\n",
       "  <matplotlib.lines.Line2D at 0x168a24f50>,\n",
       "  <matplotlib.lines.Line2D at 0x168a25090>,\n",
       "  <matplotlib.lines.Line2D at 0x168a25810>,\n",
       "  <matplotlib.lines.Line2D at 0x168a25950>,\n",
       "  <matplotlib.lines.Line2D at 0x168a26210>,\n",
       "  <matplotlib.lines.Line2D at 0x168a26350>,\n",
       "  <matplotlib.lines.Line2D at 0x168a26990>,\n",
       "  <matplotlib.lines.Line2D at 0x168a26ad0>,\n",
       "  <matplotlib.lines.Line2D at 0x168a27250>,\n",
       "  <matplotlib.lines.Line2D at 0x168a27390>,\n",
       "  <matplotlib.lines.Line2D at 0x168a27b10>,\n",
       "  <matplotlib.lines.Line2D at 0x168a27c50>,\n",
       "  <matplotlib.lines.Line2D at 0x168a9c410>,\n",
       "  <matplotlib.lines.Line2D at 0x168a9c550>,\n",
       "  <matplotlib.lines.Line2D at 0x168a9ccd0>,\n",
       "  <matplotlib.lines.Line2D at 0x168a9ce10>,\n",
       "  <matplotlib.lines.Line2D at 0x168a9d590>,\n",
       "  <matplotlib.lines.Line2D at 0x168a9d6d0>,\n",
       "  <matplotlib.lines.Line2D at 0x168a9de50>,\n",
       "  <matplotlib.lines.Line2D at 0x168a9df90>,\n",
       "  <matplotlib.lines.Line2D at 0x168a9e710>,\n",
       "  <matplotlib.lines.Line2D at 0x168a9e850>,\n",
       "  <matplotlib.lines.Line2D at 0x168a9efd0>,\n",
       "  <matplotlib.lines.Line2D at 0x168a9f110>,\n",
       "  <matplotlib.lines.Line2D at 0x168a9f890>,\n",
       "  <matplotlib.lines.Line2D at 0x168a9f9d0>,\n",
       "  <matplotlib.lines.Line2D at 0x168b04190>,\n",
       "  <matplotlib.lines.Line2D at 0x168b04410>,\n",
       "  <matplotlib.lines.Line2D at 0x168b04cd0>,\n",
       "  <matplotlib.lines.Line2D at 0x168b04e10>,\n",
       "  <matplotlib.lines.Line2D at 0x168b05590>,\n",
       "  <matplotlib.lines.Line2D at 0x168b056d0>],\n",
       " 'caps': [<matplotlib.lines.Line2D at 0x1684f6c10>,\n",
       "  <matplotlib.lines.Line2D at 0x1684f6e90>,\n",
       "  <matplotlib.lines.Line2D at 0x168a24050>,\n",
       "  <matplotlib.lines.Line2D at 0x168a24190>,\n",
       "  <matplotlib.lines.Line2D at 0x168a24910>,\n",
       "  <matplotlib.lines.Line2D at 0x168a24a50>,\n",
       "  <matplotlib.lines.Line2D at 0x168a251d0>,\n",
       "  <matplotlib.lines.Line2D at 0x168a25310>,\n",
       "  <matplotlib.lines.Line2D at 0x168a25a90>,\n",
       "  <matplotlib.lines.Line2D at 0x168a25bd0>,\n",
       "  <matplotlib.lines.Line2D at 0x168a26490>,\n",
       "  <matplotlib.lines.Line2D at 0x168a265d0>,\n",
       "  <matplotlib.lines.Line2D at 0x168a26c10>,\n",
       "  <matplotlib.lines.Line2D at 0x168a26d50>,\n",
       "  <matplotlib.lines.Line2D at 0x168a274d0>,\n",
       "  <matplotlib.lines.Line2D at 0x168a27610>,\n",
       "  <matplotlib.lines.Line2D at 0x168a27d90>,\n",
       "  <matplotlib.lines.Line2D at 0x168a27ed0>,\n",
       "  <matplotlib.lines.Line2D at 0x168a9c690>,\n",
       "  <matplotlib.lines.Line2D at 0x168a9c7d0>,\n",
       "  <matplotlib.lines.Line2D at 0x168a9cf50>,\n",
       "  <matplotlib.lines.Line2D at 0x168a9d090>,\n",
       "  <matplotlib.lines.Line2D at 0x168a9d810>,\n",
       "  <matplotlib.lines.Line2D at 0x168a9d950>,\n",
       "  <matplotlib.lines.Line2D at 0x168a9e0d0>,\n",
       "  <matplotlib.lines.Line2D at 0x168a9e210>,\n",
       "  <matplotlib.lines.Line2D at 0x168a9e990>,\n",
       "  <matplotlib.lines.Line2D at 0x168a9ead0>,\n",
       "  <matplotlib.lines.Line2D at 0x168a9f250>,\n",
       "  <matplotlib.lines.Line2D at 0x168a9f390>,\n",
       "  <matplotlib.lines.Line2D at 0x168a9fb10>,\n",
       "  <matplotlib.lines.Line2D at 0x168a9fc50>,\n",
       "  <matplotlib.lines.Line2D at 0x168b04550>,\n",
       "  <matplotlib.lines.Line2D at 0x168b047d0>,\n",
       "  <matplotlib.lines.Line2D at 0x168b04f50>,\n",
       "  <matplotlib.lines.Line2D at 0x168b05090>,\n",
       "  <matplotlib.lines.Line2D at 0x168b05810>,\n",
       "  <matplotlib.lines.Line2D at 0x168b05950>],\n",
       " 'boxes': [<matplotlib.lines.Line2D at 0x1684f7250>,\n",
       "  <matplotlib.lines.Line2D at 0x1689f0190>,\n",
       "  <matplotlib.lines.Line2D at 0x168a24550>,\n",
       "  <matplotlib.lines.Line2D at 0x168a24e10>,\n",
       "  <matplotlib.lines.Line2D at 0x168a256d0>,\n",
       "  <matplotlib.lines.Line2D at 0x168a260d0>,\n",
       "  <matplotlib.lines.Line2D at 0x168a26850>,\n",
       "  <matplotlib.lines.Line2D at 0x168a27110>,\n",
       "  <matplotlib.lines.Line2D at 0x168a279d0>,\n",
       "  <matplotlib.lines.Line2D at 0x168a9c2d0>,\n",
       "  <matplotlib.lines.Line2D at 0x168a9cb90>,\n",
       "  <matplotlib.lines.Line2D at 0x168a9d450>,\n",
       "  <matplotlib.lines.Line2D at 0x168a9dd10>,\n",
       "  <matplotlib.lines.Line2D at 0x168a9e5d0>,\n",
       "  <matplotlib.lines.Line2D at 0x168a9ee90>,\n",
       "  <matplotlib.lines.Line2D at 0x168a9f750>,\n",
       "  <matplotlib.lines.Line2D at 0x168b04050>,\n",
       "  <matplotlib.lines.Line2D at 0x168b04b90>,\n",
       "  <matplotlib.lines.Line2D at 0x168b05450>],\n",
       " 'medians': [<matplotlib.lines.Line2D at 0x1684f6d50>,\n",
       "  <matplotlib.lines.Line2D at 0x168a242d0>,\n",
       "  <matplotlib.lines.Line2D at 0x168a24b90>,\n",
       "  <matplotlib.lines.Line2D at 0x168a25450>,\n",
       "  <matplotlib.lines.Line2D at 0x168a25e50>,\n",
       "  <matplotlib.lines.Line2D at 0x168a26710>,\n",
       "  <matplotlib.lines.Line2D at 0x168a26e90>,\n",
       "  <matplotlib.lines.Line2D at 0x168a27750>,\n",
       "  <matplotlib.lines.Line2D at 0x168a9c050>,\n",
       "  <matplotlib.lines.Line2D at 0x168a9c910>,\n",
       "  <matplotlib.lines.Line2D at 0x168a9d1d0>,\n",
       "  <matplotlib.lines.Line2D at 0x168a9da90>,\n",
       "  <matplotlib.lines.Line2D at 0x168a9e350>,\n",
       "  <matplotlib.lines.Line2D at 0x168a9ec10>,\n",
       "  <matplotlib.lines.Line2D at 0x168a9f4d0>,\n",
       "  <matplotlib.lines.Line2D at 0x168a9fd90>,\n",
       "  <matplotlib.lines.Line2D at 0x168b04910>,\n",
       "  <matplotlib.lines.Line2D at 0x168b051d0>,\n",
       "  <matplotlib.lines.Line2D at 0x168b05a90>],\n",
       " 'fliers': [<matplotlib.lines.Line2D at 0x1689f02d0>,\n",
       "  <matplotlib.lines.Line2D at 0x168a24410>,\n",
       "  <matplotlib.lines.Line2D at 0x168a24cd0>,\n",
       "  <matplotlib.lines.Line2D at 0x168a25590>,\n",
       "  <matplotlib.lines.Line2D at 0x168a25f90>,\n",
       "  <matplotlib.lines.Line2D at 0x168a25d10>,\n",
       "  <matplotlib.lines.Line2D at 0x168a26fd0>,\n",
       "  <matplotlib.lines.Line2D at 0x168a27890>,\n",
       "  <matplotlib.lines.Line2D at 0x168a9c190>,\n",
       "  <matplotlib.lines.Line2D at 0x168a9ca50>,\n",
       "  <matplotlib.lines.Line2D at 0x168a9d310>,\n",
       "  <matplotlib.lines.Line2D at 0x168a9dbd0>,\n",
       "  <matplotlib.lines.Line2D at 0x168a9e490>,\n",
       "  <matplotlib.lines.Line2D at 0x168a9ed50>,\n",
       "  <matplotlib.lines.Line2D at 0x168a9f610>,\n",
       "  <matplotlib.lines.Line2D at 0x168a9fed0>,\n",
       "  <matplotlib.lines.Line2D at 0x168b04a50>,\n",
       "  <matplotlib.lines.Line2D at 0x168b05310>,\n",
       "  <matplotlib.lines.Line2D at 0x168b05bd0>],\n",
       " 'means': []}"
      ]
     },
     "execution_count": 8,
     "metadata": {},
     "output_type": "execute_result"
    },
    {
     "data": {
      "image/png": "[encoded data removed]",
      "text/plain": [
       "<Figure size 640x480 with 1 Axes>"
      ]
     },
     "metadata": {},
     "output_type": "display_data"
    }
   ],
   "source": [
    "plt.boxplot(scores.T)"
   ]
  },
  {
   "cell_type": "markdown",
   "metadata": {},
   "source": [
    "### Testing Model with Optimal Max Depth Value"
   ]
  },
  {
   "cell_type": "code",
   "execution_count": 12,
   "metadata": {},
   "outputs": [
    {
     "name": "stdout",
     "output_type": "stream",
     "text": [
      "Train Score (median):  1.0\n",
      "Test Score (median):  0.9696969696969697\n"
     ]
    }
   ],
   "source": [
    "# Initializing our model with the optimal C value (6)\n",
    "model = DecisionTreeClassifier(max_depth=6, random_state=42)\n",
    "cv_results = cross_validate(model, X, y, cv=5)\n",
    "\n",
    "# Compute both training and test scores\n",
    "cv_results = cross_validate(model, X, y, cv=5, return_train_score=True)\n",
    "\n",
    "# Access training and test scores\n",
    "train_scores = cv_results['train_score']\n",
    "test_scores = cv_results['test_score']\n",
    "np.median(train_scores)\n",
    "np.median(test_scores)\n",
    "\n",
    "# Display scores\n",
    "print(\"Train Score (median): \", np.median(train_scores))\n",
    "print(\"Test Score (median): \", np.median(test_scores))"
   ]
  }
 ],
 "metadata": {
  "kernelspec": {
   "display_name": "env",
   "language": "python",
   "name": "python3"
  },
  "language_info": {
   "codemirror_mode": {
    "name": "ipython",
    "version": 3
   },
   "file_extension": ".py",
   "mimetype": "text/x-python",
   "name": "python",
   "nbconvert_exporter": "python",
   "pygments_lexer": "ipython3",
   "version": "3.13.1"
  }
 },
 "nbformat": 4,
 "nbformat_minor": 2
}
