{
 "cells": [
  {
   "cell_type": "markdown",
   "metadata": {},
   "source": [
    "# Cross validation\n",
    "\n",
    "Goal of this exercise is to choose the best value for the hyper\n",
    "parameter `c` in a support vector machine (SVM).\n"
   ]
  },
  {
   "cell_type": "code",
   "execution_count": 9,
   "metadata": {},
   "outputs": [
    {
     "data": {
      "text/html": [
       "<div>\n",
       "<style scoped>\n",
       "    .dataframe tbody tr th:only-of-type {\n",
       "        vertical-align: middle;\n",
       "    }\n",
       "\n",
       "    .dataframe tbody tr th {\n",
       "        vertical-align: top;\n",
       "    }\n",
       "\n",
       "    .dataframe thead th {\n",
       "        text-align: right;\n",
       "    }\n",
       "</style>\n",
       "<table border=\"1\" class=\"dataframe\">\n",
       "  <thead>\n",
       "    <tr style=\"text-align: right;\">\n",
       "      <th></th>\n",
       "      <th>species</th>\n",
       "      <th>island</th>\n",
       "      <th>bill_length_mm</th>\n",
       "      <th>bill_depth_mm</th>\n",
       "      <th>flipper_length_mm</th>\n",
       "      <th>body_mass_g</th>\n",
       "      <th>sex</th>\n",
       "      <th>year</th>\n",
       "    </tr>\n",
       "  </thead>\n",
       "  <tbody>\n",
       "    <tr>\n",
       "      <th>0</th>\n",
       "      <td>Adelie</td>\n",
       "      <td>Torgersen</td>\n",
       "      <td>39.1</td>\n",
       "      <td>18.7</td>\n",
       "      <td>181.0</td>\n",
       "      <td>3750.0</td>\n",
       "      <td>male</td>\n",
       "      <td>2007</td>\n",
       "    </tr>\n",
       "    <tr>\n",
       "      <th>1</th>\n",
       "      <td>Adelie</td>\n",
       "      <td>Torgersen</td>\n",
       "      <td>39.5</td>\n",
       "      <td>17.4</td>\n",
       "      <td>186.0</td>\n",
       "      <td>3800.0</td>\n",
       "      <td>female</td>\n",
       "      <td>2007</td>\n",
       "    </tr>\n",
       "    <tr>\n",
       "      <th>2</th>\n",
       "      <td>Adelie</td>\n",
       "      <td>Torgersen</td>\n",
       "      <td>40.3</td>\n",
       "      <td>18.0</td>\n",
       "      <td>195.0</td>\n",
       "      <td>3250.0</td>\n",
       "      <td>female</td>\n",
       "      <td>2007</td>\n",
       "    </tr>\n",
       "    <tr>\n",
       "      <th>3</th>\n",
       "      <td>Adelie</td>\n",
       "      <td>Torgersen</td>\n",
       "      <td>NaN</td>\n",
       "      <td>NaN</td>\n",
       "      <td>NaN</td>\n",
       "      <td>NaN</td>\n",
       "      <td>NaN</td>\n",
       "      <td>2007</td>\n",
       "    </tr>\n",
       "    <tr>\n",
       "      <th>4</th>\n",
       "      <td>Adelie</td>\n",
       "      <td>Torgersen</td>\n",
       "      <td>36.7</td>\n",
       "      <td>19.3</td>\n",
       "      <td>193.0</td>\n",
       "      <td>3450.0</td>\n",
       "      <td>female</td>\n",
       "      <td>2007</td>\n",
       "    </tr>\n",
       "    <tr>\n",
       "      <th>...</th>\n",
       "      <td>...</td>\n",
       "      <td>...</td>\n",
       "      <td>...</td>\n",
       "      <td>...</td>\n",
       "      <td>...</td>\n",
       "      <td>...</td>\n",
       "      <td>...</td>\n",
       "      <td>...</td>\n",
       "    </tr>\n",
       "    <tr>\n",
       "      <th>339</th>\n",
       "      <td>Chinstrap</td>\n",
       "      <td>Dream</td>\n",
       "      <td>55.8</td>\n",
       "      <td>19.8</td>\n",
       "      <td>207.0</td>\n",
       "      <td>4000.0</td>\n",
       "      <td>male</td>\n",
       "      <td>2009</td>\n",
       "    </tr>\n",
       "    <tr>\n",
       "      <th>340</th>\n",
       "      <td>Chinstrap</td>\n",
       "      <td>Dream</td>\n",
       "      <td>43.5</td>\n",
       "      <td>18.1</td>\n",
       "      <td>202.0</td>\n",
       "      <td>3400.0</td>\n",
       "      <td>female</td>\n",
       "      <td>2009</td>\n",
       "    </tr>\n",
       "    <tr>\n",
       "      <th>341</th>\n",
       "      <td>Chinstrap</td>\n",
       "      <td>Dream</td>\n",
       "      <td>49.6</td>\n",
       "      <td>18.2</td>\n",
       "      <td>193.0</td>\n",
       "      <td>3775.0</td>\n",
       "      <td>male</td>\n",
       "      <td>2009</td>\n",
       "    </tr>\n",
       "    <tr>\n",
       "      <th>342</th>\n",
       "      <td>Chinstrap</td>\n",
       "      <td>Dream</td>\n",
       "      <td>50.8</td>\n",
       "      <td>19.0</td>\n",
       "      <td>210.0</td>\n",
       "      <td>4100.0</td>\n",
       "      <td>male</td>\n",
       "      <td>2009</td>\n",
       "    </tr>\n",
       "    <tr>\n",
       "      <th>343</th>\n",
       "      <td>Chinstrap</td>\n",
       "      <td>Dream</td>\n",
       "      <td>50.2</td>\n",
       "      <td>18.7</td>\n",
       "      <td>198.0</td>\n",
       "      <td>3775.0</td>\n",
       "      <td>female</td>\n",
       "      <td>2009</td>\n",
       "    </tr>\n",
       "  </tbody>\n",
       "</table>\n",
       "<p>344 rows × 8 columns</p>\n",
       "</div>"
      ],
      "text/plain": [
       "       species     island  bill_length_mm  bill_depth_mm  flipper_length_mm  \\\n",
       "0       Adelie  Torgersen            39.1           18.7              181.0   \n",
       "1       Adelie  Torgersen            39.5           17.4              186.0   \n",
       "2       Adelie  Torgersen            40.3           18.0              195.0   \n",
       "3       Adelie  Torgersen             NaN            NaN                NaN   \n",
       "4       Adelie  Torgersen            36.7           19.3              193.0   \n",
       "..         ...        ...             ...            ...                ...   \n",
       "339  Chinstrap      Dream            55.8           19.8              207.0   \n",
       "340  Chinstrap      Dream            43.5           18.1              202.0   \n",
       "341  Chinstrap      Dream            49.6           18.2              193.0   \n",
       "342  Chinstrap      Dream            50.8           19.0              210.0   \n",
       "343  Chinstrap      Dream            50.2           18.7              198.0   \n",
       "\n",
       "     body_mass_g     sex  year  \n",
       "0         3750.0    male  2007  \n",
       "1         3800.0  female  2007  \n",
       "2         3250.0  female  2007  \n",
       "3            NaN     NaN  2007  \n",
       "4         3450.0  female  2007  \n",
       "..           ...     ...   ...  \n",
       "339       4000.0    male  2009  \n",
       "340       3400.0  female  2009  \n",
       "341       3775.0    male  2009  \n",
       "342       4100.0    male  2009  \n",
       "343       3775.0  female  2009  \n",
       "\n",
       "[344 rows x 8 columns]"
      ]
     },
     "execution_count": 9,
     "metadata": {},
     "output_type": "execute_result"
    }
   ],
   "source": [
    "import pandas as pd\n",
    "import seaborn as sns\n",
    "import matplotlib.pyplot as plt\n",
    "import numpy as np\n",
    "data_url =  \"https://raw.githubusercontent.com/mcnakhaee/palmerpenguins/refs/heads/master/palmerpenguins/data/penguins.csv\"\n",
    "penguins = pd.read_csv(data_url)\n",
    "penguins"
   ]
  },
  {
   "cell_type": "markdown",
   "metadata": {},
   "source": [
    "## Helper functions"
   ]
  },
  {
   "cell_type": "code",
   "execution_count": 10,
   "metadata": {},
   "outputs": [],
   "source": [
    "def examine_penguins(penguins): \n",
    "    attribs = [\"bill_length_mm\", \"bill_depth_mm\", \"flipper_length_mm\", \"body_mass_g\", \"species\"]\n",
    "\n",
    "    # Plot the pair grid\n",
    "    g = sns.PairGrid(penguins[attribs], hue=\"species\")\n",
    "    g.map_diag(sns.histplot)\n",
    "    g.map_offdiag(sns.scatterplot)\n",
    "    g.add_legend()\n",
    "    return g "
   ]
  },
  {
   "cell_type": "code",
   "execution_count": 11,
   "metadata": {},
   "outputs": [],
   "source": [
    "# Don't touch this cell!\n",
    "def plotSVMResults(X,y, model):\n",
    "\n",
    "    # Step 1: Create a mesh grid for plotting\n",
    "    x_min, x_max = X[:, 0].min() - 1, X[:, 0].max() + 1\n",
    "    y_min, y_max = X[:, 1].min() - 1, X[:, 1].max() + 1\n",
    "    xx, yy = np.meshgrid(np.arange(x_min, x_max, 0.01),\n",
    "                        np.arange(y_min, y_max, 0.01))\n",
    "\n",
    "    # Step 2: Predict the class labels for the grid points\n",
    "    Z = model.predict(np.c_[xx.ravel(), yy.ravel()])\n",
    "    Z = Z.reshape(xx.shape)\n",
    "\n",
    "    features = set(y)\n",
    "\n",
    "    Z_num = Z.copy()\n",
    "    y_num = y.copy()\n",
    "\n",
    "    ## Change nominal values to 0 or 1\n",
    "    for (i,label) in enumerate(features):\n",
    "        Z_num[Z_num[:,:]==label] = i \n",
    "        y_num[y_num[:]==label] = i \n",
    "\n",
    "    Z_num = Z_num.astype(int)\n",
    "    y_num = y_num.astype(int)\n",
    "\n",
    "    fig, ax = plt.subplots()\n",
    "\n",
    "    #  Plot the decision boundary and the data points\n",
    "    ax.contourf(xx, yy, Z_num, alpha=0.8)\n",
    "    ax.scatter(X[:, 0], X[:, 1], c=y_num, edgecolors='k', marker='o')\n",
    "    ax.set_xlabel('Feature 1')\n",
    "    ax.set_ylabel('Feature 2')\n",
    "    ax.set_title('SVM Decision Boundary with LinearSVC')\n",
    "\n",
    "    return (ax,fig)"
   ]
  },
  {
   "cell_type": "markdown",
   "metadata": {},
   "source": [
    "## Let's look at our data\n",
    "\n",
    "This time, let's look at the Adelie penguins and the gentoo penguins and\n",
    "try to classify them by `bill_length_mm` and `body_mass_g`."
   ]
  },
  {
   "cell_type": "code",
   "execution_count": 12,
   "metadata": {},
   "outputs": [
    {
     "data": {
      "text/plain": [
       "<matplotlib.collections.PathCollection at 0x173c99f90>"
      ]
     },
     "execution_count": 12,
     "metadata": {},
     "output_type": "execute_result"
    },
    {
     "data": {
      "image/png": "[encoded data removed]",
      "text/plain": [
       "<Figure size 640x480 with 1 Axes>"
      ]
     },
     "metadata": {},
     "output_type": "display_data"
    }
   ],
   "source": [
    "# We use a mask to pull all rows that are not chinstrap\n",
    "cols = [\"bill_length_mm\", \"body_mass_g\", \"species\"]\n",
    "adelie = penguins.loc[penguins[\"species\"] == \"Adelie\",cols]\n",
    "gentoo = penguins.loc[penguins[\"species\"] == \"Gentoo\",cols]\n",
    "\n",
    "# Pull the columns that we want from the data set \n",
    "\n",
    "# Let's plot these!!\n",
    "ax, fig = plt.subplots()\n",
    "\n",
    "fig.scatter(adelie.loc[:, \"bill_length_mm\"], adelie.loc[:, \"body_mass_g\"])\n",
    "fig.scatter(gentoo.loc[:, \"bill_length_mm\"], gentoo.loc[:, \"body_mass_g\"])"
   ]
  },
  {
   "cell_type": "markdown",
   "metadata": {},
   "source": [
    "## Split the Training and testing set<a href=\"#Split-the-Training-and-testing-set\" class=\"anchor-link\">¶</a>\n",
    "\n",
    "We will do our cross validation on the training set and do a final\n",
    "evlauation using our testing set."
   ]
  },
  {
   "cell_type": "code",
   "execution_count": 13,
   "metadata": {},
   "outputs": [],
   "source": [
    "# Make our X variable, which will include all of the predictor \n",
    "# attributes (bill_legnth and body_mass)\n",
    "# and y will include the target attributes (species)\n",
    "\n",
    "penguins_no_chinstrap = pd.concat([adelie, gentoo])\n",
    "penguins_no_chinstrap = penguins_no_chinstrap.dropna()\n",
    "\n",
    "X = penguins_no_chinstrap.loc[:,[\"bill_length_mm\", \"body_mass_g\"]]\n",
    "y = penguins_no_chinstrap.loc[:,\"species\"]\n"
   ]
  },
  {
   "cell_type": "markdown",
   "metadata": {},
   "source": [
    "Let's do one simple crossvalidation for one parameter (`C=1`)"
   ]
  },
  {
   "cell_type": "code",
   "execution_count": 14,
   "metadata": {},
   "outputs": [
    {
     "data": {
      "text/plain": [
       "array([0.92727273, 0.94545455, 0.94545455, 0.94545455, 1.        ])"
      ]
     },
     "execution_count": 14,
     "metadata": {},
     "output_type": "execute_result"
    }
   ],
   "source": [
    "from sklearn.svm import LinearSVC\n",
    "from sklearn.model_selection import train_test_split, cross_val_score\n",
    "\n",
    "X_train, X_test, y_train, y_test = train_test_split(\n",
    "    X, y, test_size=0.2, random_state=0)\n",
    "\n",
    "# Setting up our model \n",
    "model = LinearSVC(C=1, random_state=42)\n",
    "\n",
    "scores = cross_val_score(model, X, y, cv=5)\n",
    "\n",
    "# Each one of these values corresponds to the accuracy of \n",
    "# testing the model on the validation set \n",
    "scores"
   ]
  },
  {
   "cell_type": "markdown",
   "metadata": {},
   "source": [
    "## Hyper parameter tuning!"
   ]
  },
  {
   "cell_type": "code",
   "execution_count": 15,
   "metadata": {},
   "outputs": [
    {
     "name": "stdout",
     "output_type": "stream",
     "text": [
      "Cross validating for 1...\n",
      "Cross validating for 2...\n",
      "Cross validating for 3...\n",
      "Cross validating for 4...\n",
      "Cross validating for 5...\n",
      "Cross validating for 6...\n",
      "Cross validating for 7...\n",
      "Cross validating for 8...\n",
      "Cross validating for 9...\n"
     ]
    },
    {
     "data": {
      "text/plain": [
       "array([[0.92727273, 0.94545455, 0.94545455, 0.94545455, 1.        ],\n",
       "       [0.92727273, 0.94545455, 0.96363636, 0.94545455, 1.        ],\n",
       "       [0.94545455, 0.94545455, 0.96363636, 0.94545455, 1.        ],\n",
       "       [0.94545455, 0.94545455, 0.96363636, 0.94545455, 1.        ],\n",
       "       [0.94545455, 0.94545455, 0.96363636, 0.94545455, 0.98148148],\n",
       "       [0.92727273, 0.94545455, 0.96363636, 0.94545455, 1.        ],\n",
       "       [0.92727273, 0.94545455, 0.96363636, 0.94545455, 1.        ],\n",
       "       [0.92727273, 0.94545455, 0.96363636, 0.94545455, 0.98148148],\n",
       "       [0.92727273, 0.94545455, 0.96363636, 0.94545455, 0.98148148]])"
      ]
     },
     "execution_count": 15,
     "metadata": {},
     "output_type": "execute_result"
    }
   ],
   "source": [
    "c_values = range(1, 10)\n",
    "\n",
    "# Use this to store our results\n",
    "scores = np.ones((len(c_values), 5))\n",
    "\n",
    "for (i,c_candidate) in enumerate(c_values):\n",
    "    print(\"Cross validating for %d...\" % c_candidate)\n",
    "\n",
    "    # Initializing our model with the given C value \n",
    "    model = LinearSVC(C=c_candidate, random_state=42)\n",
    "    current_scores = cross_val_score(model, X, y, cv=5)\n",
    "    scores[i] = current_scores\n",
    "\n",
    "scores"
   ]
  },
  {
   "cell_type": "code",
   "execution_count": 16,
   "metadata": {},
   "outputs": [
    {
     "data": {
      "text/plain": [
       "{'whiskers': [<matplotlib.lines.Line2D at 0x173d2a210>,\n",
       "  <matplotlib.lines.Line2D at 0x174a6d950>,\n",
       "  <matplotlib.lines.Line2D at 0x174a6d090>,\n",
       "  <matplotlib.lines.Line2D at 0x174a6d310>,\n",
       "  <matplotlib.lines.Line2D at 0x174b16850>,\n",
       "  <matplotlib.lines.Line2D at 0x174b16990>,\n",
       "  <matplotlib.lines.Line2D at 0x174b17110>,\n",
       "  <matplotlib.lines.Line2D at 0x174b17250>,\n",
       "  <matplotlib.lines.Line2D at 0x174b179d0>,\n",
       "  <matplotlib.lines.Line2D at 0x174b17b10>,\n",
       "  <matplotlib.lines.Line2D at 0x175850410>,\n",
       "  <matplotlib.lines.Line2D at 0x175850550>,\n",
       "  <matplotlib.lines.Line2D at 0x175850b90>,\n",
       "  <matplotlib.lines.Line2D at 0x175850cd0>,\n",
       "  <matplotlib.lines.Line2D at 0x175851450>,\n",
       "  <matplotlib.lines.Line2D at 0x175851590>,\n",
       "  <matplotlib.lines.Line2D at 0x175851d10>,\n",
       "  <matplotlib.lines.Line2D at 0x175851e50>],\n",
       " 'caps': [<matplotlib.lines.Line2D at 0x174a6d810>,\n",
       "  <matplotlib.lines.Line2D at 0x174a6d6d0>,\n",
       "  <matplotlib.lines.Line2D at 0x174b16210>,\n",
       "  <matplotlib.lines.Line2D at 0x174b16350>,\n",
       "  <matplotlib.lines.Line2D at 0x174b16ad0>,\n",
       "  <matplotlib.lines.Line2D at 0x174b16c10>,\n",
       "  <matplotlib.lines.Line2D at 0x174b17390>,\n",
       "  <matplotlib.lines.Line2D at 0x174b174d0>,\n",
       "  <matplotlib.lines.Line2D at 0x174b17c50>,\n",
       "  <matplotlib.lines.Line2D at 0x174b17d90>,\n",
       "  <matplotlib.lines.Line2D at 0x175850690>,\n",
       "  <matplotlib.lines.Line2D at 0x1758507d0>,\n",
       "  <matplotlib.lines.Line2D at 0x175850e10>,\n",
       "  <matplotlib.lines.Line2D at 0x175850f50>,\n",
       "  <matplotlib.lines.Line2D at 0x1758516d0>,\n",
       "  <matplotlib.lines.Line2D at 0x175851810>,\n",
       "  <matplotlib.lines.Line2D at 0x175851f90>,\n",
       "  <matplotlib.lines.Line2D at 0x1758520d0>],\n",
       " 'boxes': [<matplotlib.lines.Line2D at 0x173d2a5d0>,\n",
       "  <matplotlib.lines.Line2D at 0x174a6d590>,\n",
       "  <matplotlib.lines.Line2D at 0x174b16710>,\n",
       "  <matplotlib.lines.Line2D at 0x174b16fd0>,\n",
       "  <matplotlib.lines.Line2D at 0x174b17890>,\n",
       "  <matplotlib.lines.Line2D at 0x1758502d0>,\n",
       "  <matplotlib.lines.Line2D at 0x175850a50>,\n",
       "  <matplotlib.lines.Line2D at 0x175851310>,\n",
       "  <matplotlib.lines.Line2D at 0x175851bd0>],\n",
       " 'medians': [<matplotlib.lines.Line2D at 0x174a6d450>,\n",
       "  <matplotlib.lines.Line2D at 0x174b16490>,\n",
       "  <matplotlib.lines.Line2D at 0x174b16d50>,\n",
       "  <matplotlib.lines.Line2D at 0x174b17610>,\n",
       "  <matplotlib.lines.Line2D at 0x175850050>,\n",
       "  <matplotlib.lines.Line2D at 0x175850910>,\n",
       "  <matplotlib.lines.Line2D at 0x175851090>,\n",
       "  <matplotlib.lines.Line2D at 0x175851950>,\n",
       "  <matplotlib.lines.Line2D at 0x175852210>],\n",
       " 'fliers': [<matplotlib.lines.Line2D at 0x174a6d1d0>,\n",
       "  <matplotlib.lines.Line2D at 0x174b165d0>,\n",
       "  <matplotlib.lines.Line2D at 0x174b16e90>,\n",
       "  <matplotlib.lines.Line2D at 0x174b17750>,\n",
       "  <matplotlib.lines.Line2D at 0x175850190>,\n",
       "  <matplotlib.lines.Line2D at 0x174b17ed0>,\n",
       "  <matplotlib.lines.Line2D at 0x1758511d0>,\n",
       "  <matplotlib.lines.Line2D at 0x175851a90>,\n",
       "  <matplotlib.lines.Line2D at 0x175852350>],\n",
       " 'means': []}"
      ]
     },
     "execution_count": 16,
     "metadata": {},
     "output_type": "execute_result"
    },
    {
     "data": {
      "image/png": "[encoded data removed]",
      "text/plain": [
       "<Figure size 640x480 with 1 Axes>"
      ]
     },
     "metadata": {},
     "output_type": "display_data"
    }
   ],
   "source": [
    "plt.boxplot(scores.T)"
   ]
  },
  {
   "cell_type": "code",
   "execution_count": null,
   "metadata": {},
   "outputs": [],
   "source": []
  }
 ],
 "metadata": {
  "kernelspec": {
   "display_name": "env",
   "language": "python",
   "name": "python3"
  },
  "language_info": {
   "codemirror_mode": {
    "name": "ipython",
    "version": 3
   },
   "file_extension": ".py",
   "mimetype": "text/x-python",
   "name": "python",
   "nbconvert_exporter": "python",
   "pygments_lexer": "ipython3",
   "version": "3.13.1"
  }
 },
 "nbformat": 4,
 "nbformat_minor": 2
}
