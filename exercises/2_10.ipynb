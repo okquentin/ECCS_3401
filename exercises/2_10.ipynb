{
 "cells": [
  {
   "cell_type": "markdown",
   "metadata": {},
   "source": [
    "# Monday 2/10 Exercise\n",
    "\n",
    "The **goal** for this exercise is to measure the average differences between the different penguin species and determine which species are the most similar/different."
   ]
  },
  {
   "cell_type": "code",
   "execution_count": 32,
   "metadata": {},
   "outputs": [],
   "source": [
    "import pandas as pd\n",
    "from scipy.spatial.distance import pdist, squareform"
   ]
  },
  {
   "cell_type": "code",
   "execution_count": null,
   "metadata": {},
   "outputs": [],
   "source": [
    "data_url =  \"https://raw.githubusercontent.com/mcnakhaee/palmerpenguins/refs/heads/master/palmerpenguins/data/penguins.csv\"\n",
    "penguins = pd.read_csv(data_url)\n",
    "speciesList = penguins[\"species\"].unique()"
   ]
  },
  {
   "cell_type": "markdown",
   "metadata": {},
   "source": [
    "### Preprocessing\n",
    "What attributes do we need to compare penguin breeds in the dataset?\n",
    "\n",
    "- bill_length_mm\n",
    "- bill_depth_mm\n",
    "- flipper_length_mm\n",
    "- body_mass_g\n",
    "- Species (because we need that as a label)\n",
    "\n",
    "_Note_: to pull out all the rows for a given column in Pandas, we use the following syntax\n",
    "df[[\"attr1\", \"attr2\", ..., \"attrn\"]]"
   ]
  },
  {
   "cell_type": "code",
   "execution_count": null,
   "metadata": {},
   "outputs": [],
   "source": [
    "attrs = [\"species\", \"bill_length_mm\", \"bill_depth_mm\", \"flipper_length_mm\", \"body_mass_g\"]\n",
    "phys_attrs = penguins[attrs]\n",
    "\n",
    "phys_attrs"
   ]
  },
  {
   "cell_type": "markdown",
   "metadata": {},
   "source": [
    "_Note_: there are some NaN values present in the output. These can be removed with `.dropna()`, though  dropping NaN values isn't always the right thing to do for a dataset."
   ]
  },
  {
   "cell_type": "code",
   "execution_count": null,
   "metadata": {},
   "outputs": [],
   "source": [
    "# The NaN values can be removed\n",
    "phys_attrs = phys_attrs.dropna()\n",
    "\n",
    "phys_attrs"
   ]
  },
  {
   "cell_type": "markdown",
   "metadata": {},
   "source": [
    "### Summarize the penguins by species\n",
    "Since we want to measure the difference between the penguin species as a whole, we want to calculate the average of each attribute per species. (No for-loops required)\n",
    "\n",
    "Breakdown of code:\n",
    "- `groupby` allows you to perform an operation on a group of rows, according to an attribute\n",
    "- `mean` is just the average (can be swapped out with `min`, `max`, or `median`)\n",
    "\n",
    "_Note_: Species is an **key** that identifies individual **tuples**"
   ]
  },
  {
   "cell_type": "code",
   "execution_count": null,
   "metadata": {},
   "outputs": [],
   "source": [
    "avg_pen_attr = phys_attrs.groupby(\"species\").mean\n",
    "avg_pen_attr"
   ]
  },
  {
   "cell_type": "markdown",
   "metadata": {},
   "source": [
    "### Calculate our distances\n",
    "We convert our tabular data to a matrix. Each row of the matrix represents one of the species in a four dimensional space."
   ]
  },
  {
   "cell_type": "code",
   "execution_count": null,
   "metadata": {},
   "outputs": [],
   "source": [
    "avg_pen_mat = avg_pen_attr.values\n",
    "pen_dist = pdist(avg_pen_mat, metric=\"euclidean\")\n",
    "pen_dist_mat = squareform(pen_dist)\n",
    "\n",
    "pen_dist_mat"
   ]
  },
  {
   "cell_type": "markdown",
   "metadata": {},
   "source": [
    "Cliff Hanger: this data still needs to be **normalized**!"
   ]
  }
 ],
 "metadata": {
  "kernelspec": {
   "display_name": "env",
   "language": "python",
   "name": "python3"
  },
  "language_info": {
   "codemirror_mode": {
    "name": "ipython",
    "version": 3
   },
   "file_extension": ".py",
   "mimetype": "text/x-python",
   "name": "python",
   "nbconvert_exporter": "python",
   "pygments_lexer": "ipython3",
   "version": "3.13.1"
  }
 },
 "nbformat": 4,
 "nbformat_minor": 2
}
